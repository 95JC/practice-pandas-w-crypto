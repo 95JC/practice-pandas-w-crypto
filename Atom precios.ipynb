{
 "cells": [
  {
   "cell_type": "markdown",
   "id": "190516b5",
   "metadata": {},
   "source": [
    "# Vamos a hacer web Scrapping usando Beautiful Soup y Yahoo financial"
   ]
  },
  {
   "cell_type": "code",
   "execution_count": 1,
   "id": "33705a62",
   "metadata": {},
   "outputs": [
    {
     "name": "stdout",
     "output_type": "stream",
     "text": [
      "Requirement already satisfied: yfinance in ./opt/anaconda3/lib/python3.8/site-packages (0.1.63)\r\n",
      "Requirement already satisfied: pandas>=0.24 in ./opt/anaconda3/lib/python3.8/site-packages (from yfinance) (1.2.4)\r\n",
      "Requirement already satisfied: numpy>=1.15 in ./opt/anaconda3/lib/python3.8/site-packages (from yfinance) (1.20.1)\r\n",
      "Requirement already satisfied: requests>=2.20 in ./opt/anaconda3/lib/python3.8/site-packages (from yfinance) (2.25.1)\r\n",
      "Requirement already satisfied: multitasking>=0.0.7 in ./opt/anaconda3/lib/python3.8/site-packages (from yfinance) (0.0.9)\r\n",
      "Requirement already satisfied: lxml>=4.5.1 in ./opt/anaconda3/lib/python3.8/site-packages (from yfinance) (4.6.3)\r\n",
      "Requirement already satisfied: python-dateutil>=2.7.3 in ./opt/anaconda3/lib/python3.8/site-packages (from pandas>=0.24->yfinance) (2.8.1)\r\n",
      "Requirement already satisfied: pytz>=2017.3 in ./opt/anaconda3/lib/python3.8/site-packages (from pandas>=0.24->yfinance) (2021.1)\r\n",
      "Requirement already satisfied: six>=1.5 in ./opt/anaconda3/lib/python3.8/site-packages (from python-dateutil>=2.7.3->pandas>=0.24->yfinance) (1.15.0)\r\n",
      "Requirement already satisfied: urllib3<1.27,>=1.21.1 in ./opt/anaconda3/lib/python3.8/site-packages (from requests>=2.20->yfinance) (1.26.4)\r\n",
      "Requirement already satisfied: idna<3,>=2.5 in ./opt/anaconda3/lib/python3.8/site-packages (from requests>=2.20->yfinance) (2.10)\r\n",
      "Requirement already satisfied: chardet<5,>=3.0.2 in ./opt/anaconda3/lib/python3.8/site-packages (from requests>=2.20->yfinance) (4.0.0)\r\n",
      "Requirement already satisfied: certifi>=2017.4.17 in ./opt/anaconda3/lib/python3.8/site-packages (from requests>=2.20->yfinance) (2020.12.5)\r\n"
     ]
    }
   ],
   "source": [
    "!pip install yfinance"
   ]
  },
  {
   "cell_type": "code",
   "execution_count": 2,
   "id": "9602394f",
   "metadata": {},
   "outputs": [
    {
     "name": "stdout",
     "output_type": "stream",
     "text": [
      "Requirement already satisfied: yahoofinancials in ./opt/anaconda3/lib/python3.8/site-packages (1.6)\r\n",
      "Requirement already satisfied: pytz in ./opt/anaconda3/lib/python3.8/site-packages (from yahoofinancials) (2021.1)\r\n",
      "Requirement already satisfied: beautifulsoup4 in ./opt/anaconda3/lib/python3.8/site-packages (from yahoofinancials) (4.9.3)\r\n",
      "Requirement already satisfied: soupsieve>1.2 in ./opt/anaconda3/lib/python3.8/site-packages (from beautifulsoup4->yahoofinancials) (2.2.1)\r\n"
     ]
    }
   ],
   "source": [
    "!pip install yahoofinancials"
   ]
  },
  {
   "cell_type": "code",
   "execution_count": 3,
   "id": "ba47ba35",
   "metadata": {},
   "outputs": [],
   "source": [
    "import numpy as np\n",
    "import pandas as pd\n",
    "import matplotlib.pyplot as plt\n",
    "from sklearn.metrics import mean_absolute_error as mae\n",
    "from sklearn.preprocessing import StandardScaler\n",
    "import yfinance as yf\n",
    "from yahoofinancials import YahooFinancials"
   ]
  },
  {
   "cell_type": "code",
   "execution_count": 21,
   "id": "83f89ff3",
   "metadata": {},
   "outputs": [
    {
     "data": {
      "text/html": [
       "<div>\n",
       "<style scoped>\n",
       "    .dataframe tbody tr th:only-of-type {\n",
       "        vertical-align: middle;\n",
       "    }\n",
       "\n",
       "    .dataframe tbody tr th {\n",
       "        vertical-align: top;\n",
       "    }\n",
       "\n",
       "    .dataframe thead th {\n",
       "        text-align: right;\n",
       "    }\n",
       "</style>\n",
       "<table border=\"1\" class=\"dataframe\">\n",
       "  <thead>\n",
       "    <tr style=\"text-align: right;\">\n",
       "      <th></th>\n",
       "      <th>Open</th>\n",
       "      <th>High</th>\n",
       "      <th>Low</th>\n",
       "      <th>Close</th>\n",
       "      <th>Adj Close</th>\n",
       "      <th>Volume</th>\n",
       "    </tr>\n",
       "    <tr>\n",
       "      <th>Date</th>\n",
       "      <th></th>\n",
       "      <th></th>\n",
       "      <th></th>\n",
       "      <th></th>\n",
       "      <th></th>\n",
       "      <th></th>\n",
       "    </tr>\n",
       "  </thead>\n",
       "  <tbody>\n",
       "    <tr>\n",
       "      <th>2020-07-01</th>\n",
       "      <td>9.05</td>\n",
       "      <td>9.110</td>\n",
       "      <td>8.620</td>\n",
       "      <td>8.790</td>\n",
       "      <td>8.790</td>\n",
       "      <td>255300</td>\n",
       "    </tr>\n",
       "    <tr>\n",
       "      <th>2020-07-02</th>\n",
       "      <td>8.86</td>\n",
       "      <td>8.933</td>\n",
       "      <td>8.320</td>\n",
       "      <td>8.580</td>\n",
       "      <td>8.580</td>\n",
       "      <td>405400</td>\n",
       "    </tr>\n",
       "    <tr>\n",
       "      <th>2020-07-06</th>\n",
       "      <td>8.74</td>\n",
       "      <td>9.150</td>\n",
       "      <td>8.620</td>\n",
       "      <td>9.100</td>\n",
       "      <td>9.100</td>\n",
       "      <td>396900</td>\n",
       "    </tr>\n",
       "    <tr>\n",
       "      <th>2020-07-07</th>\n",
       "      <td>9.04</td>\n",
       "      <td>9.100</td>\n",
       "      <td>8.565</td>\n",
       "      <td>8.610</td>\n",
       "      <td>8.610</td>\n",
       "      <td>344400</td>\n",
       "    </tr>\n",
       "    <tr>\n",
       "      <th>2020-07-08</th>\n",
       "      <td>8.68</td>\n",
       "      <td>9.050</td>\n",
       "      <td>8.630</td>\n",
       "      <td>8.800</td>\n",
       "      <td>8.800</td>\n",
       "      <td>249200</td>\n",
       "    </tr>\n",
       "    <tr>\n",
       "      <th>...</th>\n",
       "      <td>...</td>\n",
       "      <td>...</td>\n",
       "      <td>...</td>\n",
       "      <td>...</td>\n",
       "      <td>...</td>\n",
       "      <td>...</td>\n",
       "    </tr>\n",
       "    <tr>\n",
       "      <th>2020-11-13</th>\n",
       "      <td>9.47</td>\n",
       "      <td>9.640</td>\n",
       "      <td>9.210</td>\n",
       "      <td>9.560</td>\n",
       "      <td>9.560</td>\n",
       "      <td>155000</td>\n",
       "    </tr>\n",
       "    <tr>\n",
       "      <th>2020-11-16</th>\n",
       "      <td>9.61</td>\n",
       "      <td>9.700</td>\n",
       "      <td>9.350</td>\n",
       "      <td>9.615</td>\n",
       "      <td>9.615</td>\n",
       "      <td>278300</td>\n",
       "    </tr>\n",
       "    <tr>\n",
       "      <th>2020-11-17</th>\n",
       "      <td>9.58</td>\n",
       "      <td>9.630</td>\n",
       "      <td>9.150</td>\n",
       "      <td>9.240</td>\n",
       "      <td>9.240</td>\n",
       "      <td>184800</td>\n",
       "    </tr>\n",
       "    <tr>\n",
       "      <th>2020-11-18</th>\n",
       "      <td>9.24</td>\n",
       "      <td>9.390</td>\n",
       "      <td>8.730</td>\n",
       "      <td>8.750</td>\n",
       "      <td>8.750</td>\n",
       "      <td>319800</td>\n",
       "    </tr>\n",
       "    <tr>\n",
       "      <th>2020-11-19</th>\n",
       "      <td>8.84</td>\n",
       "      <td>8.840</td>\n",
       "      <td>8.230</td>\n",
       "      <td>8.730</td>\n",
       "      <td>8.730</td>\n",
       "      <td>376900</td>\n",
       "    </tr>\n",
       "  </tbody>\n",
       "</table>\n",
       "<p>100 rows × 6 columns</p>\n",
       "</div>"
      ],
      "text/plain": [
       "            Open   High    Low  Close  Adj Close  Volume\n",
       "Date                                                    \n",
       "2020-07-01  9.05  9.110  8.620  8.790      8.790  255300\n",
       "2020-07-02  8.86  8.933  8.320  8.580      8.580  405400\n",
       "2020-07-06  8.74  9.150  8.620  9.100      9.100  396900\n",
       "2020-07-07  9.04  9.100  8.565  8.610      8.610  344400\n",
       "2020-07-08  8.68  9.050  8.630  8.800      8.800  249200\n",
       "...          ...    ...    ...    ...        ...     ...\n",
       "2020-11-13  9.47  9.640  9.210  9.560      9.560  155000\n",
       "2020-11-16  9.61  9.700  9.350  9.615      9.615  278300\n",
       "2020-11-17  9.58  9.630  9.150  9.240      9.240  184800\n",
       "2020-11-18  9.24  9.390  8.730  8.750      8.750  319800\n",
       "2020-11-19  8.84  8.840  8.230  8.730      8.730  376900\n",
       "\n",
       "[100 rows x 6 columns]"
      ]
     },
     "execution_count": 21,
     "metadata": {},
     "output_type": "execute_result"
    }
   ],
   "source": [
    "# Creando el data set\n",
    "df = yf.download('ATOM',\n",
    "   start='2020-07-01',\n",
    "   end='2021-09-30',\n",
    "   progress=False)\n",
    "df.head(100)"
   ]
  },
  {
   "cell_type": "code",
   "execution_count": 22,
   "id": "b49f7f59",
   "metadata": {},
   "outputs": [],
   "source": [
    "series = df['Close'].values.reshape(-1, 1)"
   ]
  },
  {
   "cell_type": "code",
   "execution_count": 23,
   "id": "e867c2d9",
   "metadata": {},
   "outputs": [
    {
     "data": {
      "image/png": "[encoded data removed]",
      "text/plain": [
       "<Figure size 432x288 with 1 Axes>"
      ]
     },
     "metadata": {
      "needs_background": "light"
     },
     "output_type": "display_data"
    }
   ],
   "source": [
    "scaler = StandardScaler()\n",
    "scaler.fit(series[:len(series) // 2])\n",
    "series = scaler.transform(series).flatten()\n",
    "plt.plot(series)\n",
    "plt.show()"
   ]
  },
  {
   "cell_type": "code",
   "execution_count": 24,
   "id": "c5974e62",
   "metadata": {},
   "outputs": [],
   "source": [
    "#construyendo el dataset\n",
    "#Veremos si podemos usar los valores pasados de T para predecir el siguiente valor\n",
    "\n",
    "T = 10\n",
    "D = 1\n",
    "X = []\n",
    "Y = []"
   ]
  },
  {
   "cell_type": "code",
   "execution_count": 25,
   "id": "8cf06558",
   "metadata": {},
   "outputs": [],
   "source": [
    "for t in range(len(series) - T):\n",
    "    x = series[t:t+T]\n",
    "    X.append(x)\n",
    "    y = series[t+T]\n",
    "    Y.append(y)"
   ]
  },
  {
   "cell_type": "code",
   "execution_count": 26,
   "id": "37e60f4f",
   "metadata": {},
   "outputs": [
    {
     "name": "stdout",
     "output_type": "stream",
     "text": [
      "X.shape (305, 10) Y.shape (305,)\n"
     ]
    }
   ],
   "source": [
    "X = np.array(X).reshape(-1, T)\n",
    "Y = np.array(Y)\n",
    "N = len(X)\n",
    "print(\"X.shape\", X.shape, \"Y.shape\", Y.shape)"
   ]
  },
  {
   "cell_type": "code",
   "execution_count": 27,
   "id": "f08a1eb9",
   "metadata": {},
   "outputs": [],
   "source": [
    "class BaselineModel:\n",
    "    def predict(self, X):\n",
    "        return X[:,-1] \n",
    "#los valores obtenidos para cada secuencia de inputs"
   ]
  },
  {
   "cell_type": "code",
   "execution_count": 28,
   "id": "c1935a35",
   "metadata": {},
   "outputs": [],
   "source": [
    "# entrenar y probar\n",
    "Xtrain, Ytrain = X[:-N//2], Y[:-N//2]\n",
    "Xtest, Ytest = X[-N//2:], Y[-N//2:]"
   ]
  },
  {
   "cell_type": "code",
   "execution_count": 29,
   "id": "1b6b7fa0",
   "metadata": {},
   "outputs": [],
   "source": [
    "#obteniendo las predicciones\n",
    "model = BaselineModel()\n",
    "Ptrain = model.predict(Xtrain)\n",
    "Ptest = model.predict(Xtest)"
   ]
  },
  {
   "cell_type": "code",
   "execution_count": 30,
   "id": "a4c410c3",
   "metadata": {},
   "outputs": [
    {
     "name": "stdout",
     "output_type": "stream",
     "text": [
      "baseline train mae: 0.823552740247626\n",
      "baseline test mae: 0.9576471366134345\n"
     ]
    }
   ],
   "source": [
    "#transformaciones inversas\n",
    "Ytrain2 = scaler.inverse_transform(Ytrain.reshape(-1, 1)).flatten()\n",
    "Ytest2 = scaler.inverse_transform(Ytest.reshape(-1, 1)).flatten()\n",
    "Ptrain2 = scaler.inverse_transform(Ptrain.reshape(-1, 1)).flatten()\n",
    "Ptest2 = scaler.inverse_transform(Ptest.reshape(-1, 1)).flatten()\n",
    "print(\"baseline train mae:\", mae(Ytrain2,Ptrain2))\n",
    "print(\"baseline test mae:\", mae(Ytest2, Ptest2))"
   ]
  },
  {
   "cell_type": "code",
   "execution_count": 32,
   "id": "07734e1d",
   "metadata": {},
   "outputs": [
    {
     "data": {
      "image/png": "[encoded data removed]",
      "text/plain": [
       "<Figure size 432x288 with 1 Axes>"
      ]
     },
     "metadata": {
      "needs_background": "light"
     },
     "output_type": "display_data"
    }
   ],
   "source": [
    "#right forecast\n",
    "forecast = []\n",
    "input_ = Xtest[0]\n",
    "while len(forecast) < len(Ytest):\n",
    "    f = model.predict(input_.reshape(1, T))[0]\n",
    "    forecast.append(f)\n",
    "    # make a new input with the latest forecast\n",
    "    input_ = np.roll(input_, -1)\n",
    "    input_[-1] = f\n",
    "plt.plot(Ytest, label='target')\n",
    "plt.plot(forecast, label='prediction')\n",
    "plt.legend()\n",
    "plt.title(\"Right forecast\")\n",
    "plt.show()"
   ]
  },
  {
   "cell_type": "code",
   "execution_count": null,
   "id": "1136e051",
   "metadata": {},
   "outputs": [],
   "source": []
  }
 ],
 "metadata": {
  "kernelspec": {
   "display_name": "Python 3",
   "language": "python",
   "name": "python3"
  },
  "language_info": {
   "codemirror_mode": {
    "name": "ipython",
    "version": 3
   },
   "file_extension": ".py",
   "mimetype": "text/x-python",
   "name": "python",
   "nbconvert_exporter": "python",
   "pygments_lexer": "ipython3",
   "version": "3.8.8"
  }
 },
 "nbformat": 4,
 "nbformat_minor": 5
}
